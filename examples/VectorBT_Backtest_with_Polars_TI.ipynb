{
 "cells": [
  {
   "cell_type": "markdown",
   "id": "e8501022-fcc2-4413-8d96-a808daf447da",
   "metadata": {},
   "source": [
    "# Backtesting with [**vectorbt**](https://github.com/polakowo/vectorbt)\n",
    "* Data Acquisition (**yfinance**)\n",
    "* Statistical and Technical Indicators (**polars-ti**)\n",
    "* Backtesting Analysis and Results (**vectorbt**)"
   ]
  },
  {
   "cell_type": "markdown",
   "id": "0f4f31b7-b37c-482c-a65b-d3cb21fd57f0",
   "metadata": {},
   "source": [
    "### Initializations"
   ]
  },
  {
   "cell_type": "code",
   "execution_count": null,
   "id": "208299e0-da6e-4631-85f8-c10e7a499792",
   "metadata": {},
   "outputs": [],
   "source": [
    "import asyncio\n",
    "import itertools\n",
    "from datetime import datetime\n",
    "\n",
    "from IPython import display\n",
    "\n",
    "import numpy as np\n",
    "import pandas as pd\n",
    "import polars_ti as ti\n",
    "import vectorbt as vbt\n",
    "\n",
    "import plotly.graph_objects as go\n",
    "\n",
    "print(\"Package Versions:\")\n",
    "print(f\"Numpy v{np.__version__}\")\n",
    "print(f\"Pandas v{pd.__version__}\")\n",
    "print(f\"vectorbt v{vbt.__version__}\")\n",
    "print(\n",
    "    f\"\\nPolars TI v{ti.version}\\nTo install the Latest Version:\\n$ pip install -U git+https://github.com/CMobley7/polars-ti\\n\"\n",
    ")\n",
    "\n",
    "%matplotlib inline"
   ]
  },
  {
   "cell_type": "markdown",
   "id": "e4f0ed8c-a6d4-4843-877c-a200e47fc9d0",
   "metadata": {},
   "source": [
    "# **vectorbt** Theme and Portfolio Settings"
   ]
  },
  {
   "cell_type": "code",
   "execution_count": null,
   "id": "35f829c2-1890-443f-9608-c1ba0893226c",
   "metadata": {},
   "outputs": [],
   "source": [
    "cheight, cwidth = 500, 1000  # Adjust as needed for Chart Height and Width\n",
    "vbt.settings.set_theme(\"dark\")  # Options: \"light\" (Default), \"dark\" (my fav), \"seaborn\"\n",
    "\n",
    "# Must be set\n",
    "vbt.settings.portfolio[\"freq\"] = \"1D\"  # Daily\n",
    "\n",
    "# Predefine vectorbt Portfolio settings\n",
    "vbt.settings.portfolio[\"init_cash\"] = 100_000\n",
    "vbt.settings.portfolio[\"fees\"] = 0.0025  # 0.25%\n",
    "vbt.settings.portfolio[\"slippage\"] = 0.0025  # 0.25%\n",
    "# vbt.settings.portfolio[\"size\"] = 100\n",
    "# vbt.settings.portfolio[\"accumulate\"] = False\n",
    "vbt.settings.portfolio[\"allow_partial\"] = False\n",
    "vbt.settings.portfolio[\"signal_direction\"] = \"both\"\n",
    "\n",
    "pf_settings = pd.DataFrame(vbt.settings.portfolio.items(), columns=[\"Option\", \"Value\"])\n",
    "pf_settings.set_index(\"Option\", inplace=True)\n",
    "\n",
    "print(f\"Portfolio Settings [Initial]\")\n",
    "pf_settings"
   ]
  },
  {
   "cell_type": "markdown",
   "id": "bc8fc1e3-f3cc-487c-b11f-7df03eb64420",
   "metadata": {},
   "source": [
    "## Helper Methods"
   ]
  },
  {
   "cell_type": "code",
   "execution_count": null,
   "id": "d292b3b0-9186-4cf0-b618-64c6c9d8c1db",
   "metadata": {},
   "outputs": [],
   "source": [
    "def combine_stats(\n",
    "    pf: vbt.portfolio.base.Portfolio, ticker: str, strategy: str, mode: int = 0\n",
    "):\n",
    "    header = pd.Series(\n",
    "        {\n",
    "            \"Run Time\": ti.get_time(full=False, to_string=True),\n",
    "            \"Mode\": \"LIVE\" if mode else \"TEST\",\n",
    "            \"Strategy\": strategy,\n",
    "            \"Direction\": vbt.settings.portfolio[\"signal_direction\"],\n",
    "            \"Symbol\": ticker.upper(),\n",
    "            \"Fees [%]\": 100 * vbt.settings.portfolio[\"fees\"],\n",
    "            \"Slippage [%]\": 100 * vbt.settings.portfolio[\"slippage\"],\n",
    "            \"Accumulate\": vbt.settings.portfolio[\"accumulate\"],\n",
    "        }\n",
    "    )\n",
    "    rstats = pf.returns_stats().dropna(axis=0).T\n",
    "    stats = pf.stats().dropna(axis=0).T\n",
    "    joint = pd.concat([header, stats, rstats])\n",
    "    return joint[~joint.index.duplicated(keep=\"first\")]\n",
    "\n",
    "\n",
    "def earliest_common_index(d: dict):\n",
    "    \"\"\"Returns index of the earliest common index of all DataFrames in the dict\"\"\"\n",
    "    min_date = None\n",
    "    for df in d.values():\n",
    "        if min_date is None:\n",
    "            min_date = df.index[0]\n",
    "        elif min_date < df.index[0]:\n",
    "            min_date = df.index[0]\n",
    "    return min_date\n",
    "\n",
    "\n",
    "def dl(tickers: list, same_start: bool = False, **kwargs):\n",
    "    if isinstance(tickers, str):\n",
    "        tickers = [tickers]\n",
    "\n",
    "    if not isinstance(tickers, list) or len(tickers) == 0:\n",
    "        print(\"Must be a non-empty list of tickers or symbols\")\n",
    "        return\n",
    "\n",
    "    if \"limit\" in kwargs and kwargs[\"limit\"] and len(tickers) > kwargs[\"limit\"]:\n",
    "        from itertools import islice\n",
    "\n",
    "        tickers = list(islice(tickers, kwargs[\"limit\"]))\n",
    "        print(\n",
    "            f\"[!] Too many assets to compare. Using the first {kwargs['limit']}: {', '.join(tickers)}\"\n",
    "        )\n",
    "\n",
    "    print(f\"[i] Downloading: {', '.join(tickers)}\")\n",
    "\n",
    "    received = {}\n",
    "    if len(tickers):\n",
    "        _df = pd.DataFrame()\n",
    "        for ticker in tickers:\n",
    "            received[ticker] = _df.ti.ticker(ticker, **kwargs)\n",
    "            print(f\"[+] {ti.get_time(full=False, to_string=True)}\")\n",
    "\n",
    "    if same_start and len(tickers) > 1:\n",
    "        earliestci = earliest_common_index(received)\n",
    "        print(f\"[i] Earliest Common Date: {earliestci}\")\n",
    "        result = {\n",
    "            ticker: df[df.index > earliestci].copy() for ticker, df in received.items()\n",
    "        }\n",
    "    else:\n",
    "        result = received\n",
    "    print(f\"[*] Download Complete\\n\")\n",
    "    return result\n",
    "\n",
    "\n",
    "def dtmask(df: pd.DataFrame, start: datetime, end: datetime):\n",
    "    return df.loc[(df.index >= start) & (df.index <= end), :].copy()\n",
    "\n",
    "\n",
    "def show_data(d: dict):\n",
    "    [\n",
    "        print(\n",
    "            f\"{t}[{df.index[0]} - {df.index[-1]}]: {df.shape} {df.ti.time_range:.2f} years\"\n",
    "        )\n",
    "        for t, df in d.items()\n",
    "    ]\n",
    "\n",
    "\n",
    "def trade_table(pf: vbt.portfolio.base.Portfolio, k: int = 1, total_fees: bool = False):\n",
    "    if not isinstance(pf, vbt.portfolio.base.Portfolio):\n",
    "        return\n",
    "    k = int(k) if isinstance(k, int) and k > 0 else 1\n",
    "\n",
    "    df = pf.trades.records[\n",
    "        [\n",
    "            \"status\",\n",
    "            \"direction\",\n",
    "            \"size\",\n",
    "            \"entry_price\",\n",
    "            \"exit_price\",\n",
    "            \"return\",\n",
    "            \"pnl\",\n",
    "            \"entry_fees\",\n",
    "            \"exit_fees\",\n",
    "        ]\n",
    "    ]\n",
    "    if total_fees:\n",
    "        df[\"total_fees\"] = df[\"entry_fees\"] + df[\"exit_fees\"]\n",
    "\n",
    "    print(f\"\\nLast {k} of {df.shape[0]} Trades\\n{df.tail(k)}\\n\")"
   ]
  },
  {
   "cell_type": "markdown",
   "id": "5296f5e7-6752-43f4-b47d-d359da0d0145",
   "metadata": {},
   "source": [
    "# Data Acquisition"
   ]
  },
  {
   "cell_type": "markdown",
   "id": "8c770d31-a015-49f2-b1ad-5bced3520d55",
   "metadata": {},
   "source": [
    "#### Specify Symbols for Benchmarks and Assets"
   ]
  },
  {
   "cell_type": "code",
   "execution_count": null,
   "id": "edf274ec-9813-469b-b1e5-129a4e8fe7ed",
   "metadata": {},
   "outputs": [],
   "source": [
    "benchmark_tickers = [\"SPY\", \"QQQ\"]\n",
    "asset_tickers = [\"AAPL\", \"TSLA\", \"TWTR\"]\n",
    "all_tickers = benchmark_tickers + asset_tickers\n",
    "\n",
    "print(\"Tickers by index #\")\n",
    "print(\"=\" * 100)\n",
    "print(f\"Benchmarks: {', '.join([f'{k}: {v}' for k,v in enumerate(benchmark_tickers)])}\")\n",
    "print(f\"    Assets: {', '.join([f'{k}: {v}' for k,v in enumerate(asset_tickers)])}\")\n",
    "print(f\"       All: {', '.join([f'{k}: {v}' for k,v in enumerate(all_tickers)])}\")"
   ]
  },
  {
   "cell_type": "code",
   "execution_count": null,
   "id": "c4c7072a-2c93-4a40-81b4-e18563f81e44",
   "metadata": {},
   "outputs": [],
   "source": [
    "benchmark = benchmark_tickers[0]  # Change index for different benchmark\n",
    "asset = asset_tickers[2]  # Change index for different symbol\n",
    "print(f\"Selected Benchmark | Asset: {benchmark} | {asset}\")"
   ]
  },
  {
   "cell_type": "code",
   "execution_count": null,
   "id": "57a1ded8-fe41-4416-8a54-ac94e9306975",
   "metadata": {},
   "outputs": [],
   "source": [
    "benchmarks = dl(benchmark_tickers, timed=True)"
   ]
  },
  {
   "cell_type": "code",
   "execution_count": null,
   "id": "eeb57c0a-677a-4fcf-8a0f-08338c04bf03",
   "metadata": {},
   "outputs": [],
   "source": [
    "assets = dl(asset_tickers, timed=True)"
   ]
  },
  {
   "cell_type": "markdown",
   "id": "68d36f39-b55b-4ff6-9b73-ec7e6cf9e502",
   "metadata": {},
   "source": [
    "### Define Testing Dates and Ranges"
   ]
  },
  {
   "cell_type": "code",
   "execution_count": 8,
   "id": "f3b1fafb-e0e6-41b8-85af-4b8a78a00c85",
   "metadata": {},
   "outputs": [],
   "source": [
    "start_date = datetime(2005, 1, 1)  # Adjust as needed\n",
    "end_date = datetime(2010, 1, 1)  # Adjust as needed"
   ]
  },
  {
   "cell_type": "markdown",
   "id": "cf392c49-9325-4cd5-81c3-ac7285bb7100",
   "metadata": {},
   "source": [
    "### Select and Benchmark and Asset to Backtest"
   ]
  },
  {
   "cell_type": "code",
   "execution_count": null,
   "id": "844bec64-4547-414f-8c89-00d66f08f5d4",
   "metadata": {},
   "outputs": [],
   "source": [
    "print(\"Available Data:\")\n",
    "print(\"=\" * 100)\n",
    "print(f\"Benchmarks: {', '.join(benchmarks.keys())}\")\n",
    "print(f\"Assets: {', '.join(assets.keys())}\")"
   ]
  },
  {
   "cell_type": "code",
   "execution_count": null,
   "id": "d1fea600-8460-441a-b933-94fbd2456930",
   "metadata": {},
   "outputs": [],
   "source": [
    "benchmark_name = \"SPY\"  # Select a Benchmark\n",
    "asset_name = \"AAPL\"  # Select an Asset\n",
    "\n",
    "benchmarkdf = benchmarks[benchmark_name]\n",
    "assetdf = assets[asset_name]\n",
    "\n",
    "# Set True if you want to constrain Data between start_date & end_date\n",
    "common_range = True\n",
    "if common_range:\n",
    "    crs = f\" from {start_date} to {end_date}\"\n",
    "    benchmarkdf = dtmask(benchmarkdf, start_date, end_date)\n",
    "    assetdf = dtmask(assetdf, start_date, end_date)\n",
    "\n",
    "# Update DataFrame names\n",
    "benchmarkdf.name = benchmark_name\n",
    "assetdf.name = asset_name\n",
    "print(\n",
    "    f\"Analysis of: {benchmarkdf.name} and {assetdf.name}{crs if common_range else ''}\"\n",
    ")"
   ]
  },
  {
   "cell_type": "markdown",
   "id": "0e0c3328-783c-4cf2-82fe-d8772948289a",
   "metadata": {},
   "source": [
    "#### Sanity Check"
   ]
  },
  {
   "cell_type": "code",
   "execution_count": null,
   "id": "5449cbc0-8050-4b1b-9357-eac975fbbb3c",
   "metadata": {},
   "outputs": [],
   "source": [
    "benchmarkdf"
   ]
  },
  {
   "cell_type": "code",
   "execution_count": null,
   "id": "3adaeb5e-dfc4-4eed-970f-f465035c7a89",
   "metadata": {},
   "outputs": [],
   "source": [
    "assetdf"
   ]
  },
  {
   "cell_type": "markdown",
   "id": "a71574b2-5e32-45d1-beb9-48a0cb4eadfe",
   "metadata": {},
   "source": [
    "## Creating Trading Signals for **vectorbt**\n",
    "**vectorbt** can create a Backtest using ```vbt.Portfolio.from_signals(*args, **kwargs)``` based on trends that you create with **Polars TI**."
   ]
  },
  {
   "cell_type": "markdown",
   "id": "19c0ab8b-fcbe-4a07-9a77-e904b970e6ca",
   "metadata": {},
   "source": [
    "### Trend Creation\n",
    "A **Trend** is the result of some calculation or condition of one or more indicators. For simplicity, a _Trend_ is either ```True``` or ```1``` and _No Trend_ is ```False``` or ```0```. Using the **Hello World** of Trends, the **Golden/Death Cross**, it's Trend is _Long_ when ```long = ma(close, 50) > ma(close, 200) ``` and _Short_ when ```short = ma(close, 50) < ma(close, 200) ```. "
   ]
  },
  {
   "cell_type": "code",
   "execution_count": null,
   "id": "775842c7-ea0e-42a0-b287-cc56487520c0",
   "metadata": {},
   "outputs": [],
   "source": [
    "# Example Long Trends for the selected Asset\n",
    "# * Uncomment others for exploration or replace them with your own TI Trend Strategy\n",
    "def trends(df: pd.DataFrame, mamode: str = \"sma\", fast: int = 50, slow: int = 200):\n",
    "    return ti.ma(mamode, df.Close, length=fast) > ti.ma(\n",
    "        mamode, df.Close, length=slow\n",
    "    )  # SMA(fast) > SMA(slow) \"Golden/Death Cross\"\n",
    "\n",
    "\n",
    "#     return ti.increasing(ti.ma(mamode, df.Close, length=fast)) # Increasing MA(fast)\n",
    "#     return ti.macd(df.Close, fast, slow).iloc[:,1] > 0 # MACD Histogram is positive"
   ]
  },
  {
   "cell_type": "markdown",
   "id": "eab7e842-0cc9-420a-a22e-069ecc86e879",
   "metadata": {},
   "source": [
    "### Display Trends"
   ]
  },
  {
   "cell_type": "code",
   "execution_count": 14,
   "id": "8c13e23e-6c2a-47e9-94b8-90dcb79f9191",
   "metadata": {
    "tags": []
   },
   "outputs": [],
   "source": [
    "trend_kwargs = {\"mamode\": \"ema\", \"fast\": 20, \"slow\": 50}"
   ]
  },
  {
   "cell_type": "code",
   "execution_count": null,
   "id": "ef5a755c-ce2b-4bb1-a72f-51f5afbf537a",
   "metadata": {},
   "outputs": [],
   "source": [
    "benchmark_trends = trends(benchmarkdf, **trend_kwargs)\n",
    "benchmark_trends.copy().astype(int).plot(\n",
    "    figsize=(16, 1),\n",
    "    kind=\"area\",\n",
    "    color=[\"limegreen\"],\n",
    "    alpha=0.9,\n",
    "    title=f\"{benchmarkdf.name} Trends\",\n",
    "    grid=True,\n",
    ").axhline(0, color=\"black\")"
   ]
  },
  {
   "cell_type": "code",
   "execution_count": null,
   "id": "bc51e2ca-8784-48a5-a55e-8f32212b9560",
   "metadata": {},
   "outputs": [],
   "source": [
    "asset_trends = trends(assetdf, **trend_kwargs)\n",
    "asset_trends.copy().astype(int).plot(\n",
    "    figsize=(16, 1),\n",
    "    kind=\"area\",\n",
    "    color=[\"limegreen\"],\n",
    "    alpha=0.98,\n",
    "    title=f\"{assetdf.name} Trends\",\n",
    "    grid=True,\n",
    ").axhline(0, color=\"black\")"
   ]
  },
  {
   "cell_type": "markdown",
   "id": "ba1888d0-10a9-44d4-bc8a-b8ea1c1faa0e",
   "metadata": {},
   "source": [
    "### **Trend Signals** \n",
    "Given a _Trend_, **Trend Signals** returns the _Trend_, _Trades_, _Entries_ and _Exits_ as boolean integers. When ```asbool=True```, it returns _Trends_, _Entries_ and _Exits_ as boolean values which is helpful when combined with the [**vectorbt**](https://github.com/polakowo/vectorbt) backtesting package."
   ]
  },
  {
   "cell_type": "code",
   "execution_count": null,
   "id": "75bd0f52-ebe0-4fe1-b8e0-475320d3557f",
   "metadata": {},
   "outputs": [],
   "source": [
    "# trade_offset = 0 for Live Signals (close is last price)\n",
    "# trade_offset = 1 for Backtesting\n",
    "LIVE = 0\n",
    "\n",
    "benchmark_signals = assetdf.ti.tsignals(\n",
    "    benchmark_trends, asbool=True, trade_offset=LIVE, append=True\n",
    ")\n",
    "benchmark_signals.tail()"
   ]
  },
  {
   "cell_type": "code",
   "execution_count": null,
   "id": "3fceb4ec-b564-47fc-9568-301d1e517440",
   "metadata": {},
   "outputs": [],
   "source": [
    "asset_signals = assetdf.ti.tsignals(\n",
    "    asset_trends, asbool=True, trade_offset=LIVE, append=True\n",
    ")\n",
    "asset_signals.tail()"
   ]
  },
  {
   "cell_type": "markdown",
   "id": "5155f6c5-2256-4abd-8945-3201e3963613",
   "metadata": {},
   "source": [
    "## Creating **vectorbt** Portfolios\n",
    "* [**vectorbt** Portfolio Options](https://polakowo.io/vectorbt/docs/portfolio/base.html)"
   ]
  },
  {
   "cell_type": "markdown",
   "id": "40085839-77af-4cf8-ad94-25ed5a9a8bc1",
   "metadata": {},
   "source": [
    "### Buy 'N Hold Portfolios with their Single Trade and Performance Statistics"
   ]
  },
  {
   "cell_type": "code",
   "execution_count": null,
   "id": "237cbd18-dfc5-4982-bc5c-2427cfa2ab6d",
   "metadata": {},
   "outputs": [],
   "source": [
    "# Benchmark Buy and Hold (BnH) Strategy\n",
    "benchmarkpf_bnh = vbt.Portfolio.from_holding(benchmarkdf.Close)\n",
    "print(trade_table(benchmarkpf_bnh))\n",
    "combine_stats(benchmarkpf_bnh, benchmarkdf.name, \"Buy and Hold\", LIVE)"
   ]
  },
  {
   "cell_type": "code",
   "execution_count": null,
   "id": "79667a6e-cd9b-424e-bec8-02435a8e38d3",
   "metadata": {},
   "outputs": [],
   "source": [
    "# Asset Buy and Hold (BnH) Strategy\n",
    "assetpf_bnh = vbt.Portfolio.from_holding(assetdf.Close)\n",
    "print(trade_table(assetpf_bnh))\n",
    "combine_stats(assetpf_bnh, assetdf.name, \"Buy and Hold\", LIVE)"
   ]
  },
  {
   "cell_type": "markdown",
   "id": "6549488f-31df-4de3-a6b8-0034b4be591a",
   "metadata": {},
   "source": [
    "### Signal Portfolios with their Last 'k' Trades and Performance Statistics"
   ]
  },
  {
   "cell_type": "code",
   "execution_count": null,
   "id": "ab11d9a6-05a3-49e5-9c2c-d339e26e9b23",
   "metadata": {},
   "outputs": [],
   "source": [
    "# Benchmark Portfolio from Trade Signals\n",
    "benchmarkpf_signals = vbt.Portfolio.from_signals(\n",
    "    benchmarkdf.Close,\n",
    "    entries=benchmark_signals.TS_Entries,\n",
    "    exits=benchmark_signals.TS_Exits,\n",
    ")\n",
    "trade_table(benchmarkpf_signals, k=5)\n",
    "combine_stats(benchmarkpf_signals, benchmarkdf.name, \"Long Strategy\", LIVE)"
   ]
  },
  {
   "cell_type": "code",
   "execution_count": null,
   "id": "d8eaf793-f18b-41e1-92d2-d27baa166371",
   "metadata": {},
   "outputs": [],
   "source": [
    "# Asset Portfolio from Trade Signals\n",
    "assetpf_signals = vbt.Portfolio.from_signals(\n",
    "    assetdf.Close,\n",
    "    entries=asset_signals.TS_Entries,\n",
    "    exits=asset_signals.TS_Exits,\n",
    ")\n",
    "trade_table(assetpf_signals, k=5)\n",
    "combine_stats(assetpf_signals, assetdf.name, \"Long Strategy\", LIVE)"
   ]
  },
  {
   "cell_type": "markdown",
   "id": "79249c48-7cb6-41a1-ad8d-4aa928d7cd90",
   "metadata": {},
   "source": [
    "## Buy and Hold Plots"
   ]
  },
  {
   "cell_type": "code",
   "execution_count": 23,
   "id": "f386b63d-38f0-401a-ae0e-48bfb65e561a",
   "metadata": {},
   "outputs": [],
   "source": [
    "vbt.settings.set_theme(\"seaborn\")"
   ]
  },
  {
   "cell_type": "markdown",
   "id": "000dbee0-dd23-45b9-b298-5e9805e99dd5",
   "metadata": {},
   "source": [
    "### Benchmark"
   ]
  },
  {
   "cell_type": "code",
   "execution_count": null,
   "id": "8d3be988-8ab0-4160-8954-2e5989b3c75f",
   "metadata": {},
   "outputs": [],
   "source": [
    "benchmarkpf_bnh.trades.plot(\n",
    "    title=f\"{benchmarkdf.name} | Trades\", height=cheight, width=cwidth\n",
    ").show_png()"
   ]
  },
  {
   "cell_type": "code",
   "execution_count": null,
   "id": "de6ef303-a1a8-4ff9-8722-4e50cdde28d9",
   "metadata": {},
   "outputs": [],
   "source": [
    "benchmarkpf_bnh.value().vbt.plot(\n",
    "    title=f\"{benchmarkdf.name} | Equity Curve\",\n",
    "    trace_kwargs=dict(name=\"\\u00a4\"),\n",
    "    height=cheight // 2,\n",
    "    width=cwidth,\n",
    ").show_png()"
   ]
  },
  {
   "cell_type": "code",
   "execution_count": null,
   "id": "f38fa715-186c-40fb-aecb-177c39480600",
   "metadata": {},
   "outputs": [],
   "source": [
    "benchmarkpf_bnh.drawdown().vbt.plot(\n",
    "    title=f\"{benchmarkdf.name} | Drawdown\",\n",
    "    trace_kwargs=dict(name=\"%\"),\n",
    "    height=cheight // 2,\n",
    "    width=cwidth,\n",
    ").show_png()"
   ]
  },
  {
   "cell_type": "code",
   "execution_count": null,
   "id": "aab9e899-5115-4395-bc1a-c79e75a87583",
   "metadata": {},
   "outputs": [],
   "source": [
    "benchmarkpf_bnh.trades.plot_pnl(\n",
    "    title=f\"{benchmarkdf.name} | PnL\", height=cheight // 2, width=cwidth\n",
    ").show_png()"
   ]
  },
  {
   "cell_type": "code",
   "execution_count": null,
   "id": "4612fa22-363c-4351-9748-1204c26817f3",
   "metadata": {},
   "outputs": [],
   "source": [
    "benchmarkpf_bnh.asset_returns().vbt.plot(\n",
    "    title=f\"{benchmarkdf.name} | Asset Returns\",\n",
    "    trace_kwargs=dict(name=\"%\"),\n",
    "    height=cheight // 2,\n",
    "    width=cwidth,\n",
    ").show_png()"
   ]
  },
  {
   "cell_type": "code",
   "execution_count": null,
   "id": "61e0a14e-72ef-49fd-a610-7a7f2a47ec59",
   "metadata": {},
   "outputs": [],
   "source": [
    "benchmarkpf_bnh.cash().vbt.plot(\n",
    "    title=f\"{benchmarkdf.name} | Cash\",\n",
    "    trace_kwargs=dict(name=\"\\u00a4\"),\n",
    "    height=cheight // 2,\n",
    "    width=cwidth,\n",
    ").show_png()"
   ]
  },
  {
   "cell_type": "code",
   "execution_count": null,
   "id": "8ff2049b-7d65-4ee3-aeda-f246d3f78990",
   "metadata": {},
   "outputs": [],
   "source": [
    "total_assetfees = (\n",
    "    benchmarkpf_bnh.trades.records_readable[\"Entry Fees\"]\n",
    "    + benchmarkpf_bnh.trades.records_readable[\"Exit Fees\"]\n",
    ")\n",
    "total_assetfees.vbt.plot(\n",
    "    title=f\"{benchmarkdf.name} | Total Fees\",\n",
    "    trace_kwargs=dict(name=\"\\u00a4\"),\n",
    "    height=cheight // 2,\n",
    "    width=cwidth,\n",
    ").show_png()"
   ]
  },
  {
   "cell_type": "markdown",
   "id": "d2ee8078-2c50-456b-91b7-bce90ab837d7",
   "metadata": {},
   "source": [
    "### Asset"
   ]
  },
  {
   "cell_type": "code",
   "execution_count": null,
   "id": "39d91c0e-85aa-41d1-8be4-db4950fbd072",
   "metadata": {},
   "outputs": [],
   "source": [
    "assetpf_bnh.trades.plot(\n",
    "    title=f\"{assetdf.name} | Trades\", height=cheight, width=cwidth\n",
    ").show_png()"
   ]
  },
  {
   "cell_type": "code",
   "execution_count": null,
   "id": "e8b1c77d-b699-4531-8226-bc9c33a465eb",
   "metadata": {},
   "outputs": [],
   "source": [
    "assetpf_bnh.value().vbt.plot(\n",
    "    title=f\"{assetdf.name} | Equity Curve\",\n",
    "    trace_kwargs=dict(name=\"\\u00a4\"),\n",
    "    height=cheight // 2,\n",
    "    width=cwidth,\n",
    ").show_png()"
   ]
  },
  {
   "cell_type": "code",
   "execution_count": null,
   "id": "3afeecfb-6732-4811-9bbc-d731705096df",
   "metadata": {},
   "outputs": [],
   "source": [
    "assetpf_bnh.drawdown().vbt.plot(\n",
    "    title=f\"{assetdf.name} | Drawdown\",\n",
    "    trace_kwargs=dict(name=\"%\"),\n",
    "    height=cheight // 2,\n",
    "    width=cwidth,\n",
    ").show_png()"
   ]
  },
  {
   "cell_type": "code",
   "execution_count": null,
   "id": "0b66f1f8-1155-4759-aba0-b3762dfca7d8",
   "metadata": {},
   "outputs": [],
   "source": [
    "assetpf_bnh.trades.plot_pnl(\n",
    "    title=f\"{assetdf.name} | PnL\", height=cheight // 2, width=cwidth\n",
    ").show_png()"
   ]
  },
  {
   "cell_type": "code",
   "execution_count": null,
   "id": "f1b5e490-b99b-4613-be46-72b41076a45f",
   "metadata": {},
   "outputs": [],
   "source": [
    "assetpf_bnh.asset_returns().vbt.plot(\n",
    "    title=f\"{assetdf.name} | Asset Returns\",\n",
    "    trace_kwargs=dict(name=\"%\"),\n",
    "    height=cheight // 2,\n",
    "    width=cwidth,\n",
    ").show_png()"
   ]
  },
  {
   "cell_type": "code",
   "execution_count": null,
   "id": "061f2fbe-b6c0-49e6-8523-d2a895609427",
   "metadata": {},
   "outputs": [],
   "source": [
    "assetpf_bnh.cash().vbt.plot(\n",
    "    title=f\"{assetdf.name} | Cash\",\n",
    "    trace_kwargs=dict(name=\"\\u00a4\"),\n",
    "    height=cheight // 2,\n",
    "    width=cwidth,\n",
    ").show_png()"
   ]
  },
  {
   "cell_type": "code",
   "execution_count": null,
   "id": "e9968dcd-f488-4093-816d-059488617a1f",
   "metadata": {},
   "outputs": [],
   "source": [
    "total_assetfees = (\n",
    "    assetpf_bnh.trades.records_readable[\"Entry Fees\"]\n",
    "    + assetpf_bnh.trades.records_readable[\"Exit Fees\"]\n",
    ")\n",
    "total_assetfees.vbt.plot(\n",
    "    title=f\"{assetdf.name} | Total Fees\",\n",
    "    trace_kwargs=dict(name=\"\\u00a4\"),\n",
    "    height=cheight // 2,\n",
    "    width=cwidth,\n",
    ").show_png()"
   ]
  },
  {
   "cell_type": "markdown",
   "id": "2f1db047-adfc-4095-9c58-c782fd0085d1",
   "metadata": {},
   "source": [
    "## Signal Plots"
   ]
  },
  {
   "cell_type": "code",
   "execution_count": 38,
   "id": "26f2e079-ffc7-4047-908f-3badf0ce94fe",
   "metadata": {},
   "outputs": [],
   "source": [
    "vbt.settings.set_theme(\"dark\")"
   ]
  },
  {
   "cell_type": "markdown",
   "id": "56c982d5-f6a1-4ed0-94b4-97b492cea01f",
   "metadata": {},
   "source": [
    "### Benchmark"
   ]
  },
  {
   "cell_type": "code",
   "execution_count": null,
   "id": "a7c9675c-0019-490f-a230-689aecba1c0f",
   "metadata": {},
   "outputs": [],
   "source": [
    "benchmarkpf_signals.trades.plot(\n",
    "    title=f\"{benchmarkdf.name} | Trades\", height=cheight, width=cwidth\n",
    ").show_png()"
   ]
  },
  {
   "cell_type": "code",
   "execution_count": null,
   "id": "d7aba265-f0d9-4377-810c-23877e849ee4",
   "metadata": {},
   "outputs": [],
   "source": [
    "benchmarkpf_signals.value().vbt.plot(\n",
    "    title=f\"{benchmarkdf.name} | Equity Curve\",\n",
    "    trace_kwargs=dict(name=\"\\u00a4\"),\n",
    "    height=cheight // 2,\n",
    "    width=cwidth,\n",
    ").show_png()"
   ]
  },
  {
   "cell_type": "code",
   "execution_count": null,
   "id": "59fbacad-e920-4b1d-81de-34dbb4fe772a",
   "metadata": {},
   "outputs": [],
   "source": [
    "benchmarkpf_signals.drawdown().vbt.plot(\n",
    "    title=f\"{benchmarkdf.name} | Drawdown\",\n",
    "    trace_kwargs=dict(name=\"%\"),\n",
    "    height=cheight // 2,\n",
    "    width=cwidth,\n",
    ").show_png()"
   ]
  },
  {
   "cell_type": "code",
   "execution_count": null,
   "id": "efa2a030-d345-4253-82cd-d41644ab3d19",
   "metadata": {},
   "outputs": [],
   "source": [
    "benchmarkpf_signals.trades.plot_pnl(\n",
    "    title=f\"{benchmarkdf.name} | PnL\", height=cheight // 2, width=cwidth\n",
    ").show_png()"
   ]
  },
  {
   "cell_type": "code",
   "execution_count": null,
   "id": "0152d91e-c129-4e10-897f-fc9f832bbb5e",
   "metadata": {},
   "outputs": [],
   "source": [
    "benchmarkpf_signals.asset_returns().vbt.plot(\n",
    "    title=f\"{benchmarkdf.name} | Asset Returns\",\n",
    "    trace_kwargs=dict(name=\"%\"),\n",
    "    height=cheight // 2,\n",
    "    width=cwidth,\n",
    ").show_png()"
   ]
  },
  {
   "cell_type": "code",
   "execution_count": null,
   "id": "7b3ea536-cb90-4eef-aa3d-d37a0639a6f2",
   "metadata": {},
   "outputs": [],
   "source": [
    "benchmarkpf_signals.cash().vbt.plot(\n",
    "    title=f\"{benchmarkdf.name} | Cash\",\n",
    "    trace_kwargs=dict(name=\"\\u00a4\"),\n",
    "    height=cheight // 2,\n",
    "    width=cwidth,\n",
    ").show_png()"
   ]
  },
  {
   "cell_type": "code",
   "execution_count": null,
   "id": "6305826c-d02c-4d3c-b754-1623f3e1f37f",
   "metadata": {},
   "outputs": [],
   "source": [
    "total_assetfees = (\n",
    "    benchmarkpf_signals.trades.records_readable[\"Entry Fees\"]\n",
    "    + benchmarkpf_signals.trades.records_readable[\"Exit Fees\"]\n",
    ")\n",
    "total_assetfees.vbt.plot(\n",
    "    title=f\"{benchmarkdf.name} | Total Fees\",\n",
    "    trace_kwargs=dict(name=\"\\u00a4\"),\n",
    "    height=cheight // 2,\n",
    "    width=cwidth,\n",
    ").show_png()"
   ]
  },
  {
   "cell_type": "markdown",
   "id": "aac6ae83-46b5-447c-99ed-0d30fd64cb0f",
   "metadata": {},
   "source": [
    "### Asset"
   ]
  },
  {
   "cell_type": "code",
   "execution_count": null,
   "id": "d52dc534-ba16-4dc6-a8ab-fa358e3b1e7a",
   "metadata": {},
   "outputs": [],
   "source": [
    "assetpf_signals.trades.plot(\n",
    "    title=f\"{assetdf.name} | Trades\", height=cheight, width=cwidth\n",
    ").show_png()"
   ]
  },
  {
   "cell_type": "code",
   "execution_count": null,
   "id": "46e75cf4-78ea-46ff-a9e4-bd56c9d946e8",
   "metadata": {},
   "outputs": [],
   "source": [
    "assetpf_signals.value().vbt.plot(\n",
    "    title=f\"{assetdf.name} | Equity Curve\",\n",
    "    trace_kwargs=dict(name=\"\\u00a4\"),\n",
    "    height=cheight // 2,\n",
    "    width=cwidth,\n",
    ").show_png()"
   ]
  },
  {
   "cell_type": "code",
   "execution_count": null,
   "id": "153347c4-d673-498e-b14e-cdbdf4753562",
   "metadata": {},
   "outputs": [],
   "source": [
    "assetpf_signals.drawdown().vbt.plot(\n",
    "    title=f\"{assetdf.name} | Drawdown\",\n",
    "    trace_kwargs=dict(name=\"%\"),\n",
    "    height=cheight // 2,\n",
    "    width=cwidth,\n",
    ").show_png()"
   ]
  },
  {
   "cell_type": "code",
   "execution_count": null,
   "id": "57cfbcaa-2796-4161-815f-54a74c4379cd",
   "metadata": {},
   "outputs": [],
   "source": [
    "assetpf_signals.trades.plot_pnl(\n",
    "    title=f\"{assetdf.name} | PnL\", height=cheight // 2, width=cwidth\n",
    ").show_png()"
   ]
  },
  {
   "cell_type": "code",
   "execution_count": null,
   "id": "812803e3-5448-4f59-81ce-20ed154f1ac7",
   "metadata": {},
   "outputs": [],
   "source": [
    "assetpf_signals.asset_returns().vbt.plot(\n",
    "    title=f\"{assetdf.name} | Asset Returns\",\n",
    "    trace_kwargs=dict(name=\"%\"),\n",
    "    height=cheight // 2,\n",
    "    width=cwidth,\n",
    ").show_png()"
   ]
  },
  {
   "cell_type": "code",
   "execution_count": null,
   "id": "7c8bc78b-7d7b-40e7-a4e0-817389efbc36",
   "metadata": {},
   "outputs": [],
   "source": [
    "assetpf_signals.cash().vbt.plot(\n",
    "    title=f\"{assetdf.name} | Cash\",\n",
    "    trace_kwargs=dict(name=\"\\u00a4\"),\n",
    "    height=cheight // 2,\n",
    "    width=cwidth,\n",
    ").show_png()"
   ]
  },
  {
   "cell_type": "code",
   "execution_count": null,
   "id": "e492d13a-4493-4dc9-a5c5-7e0727a36746",
   "metadata": {},
   "outputs": [],
   "source": [
    "total_assetfees = (\n",
    "    assetpf_signals.trades.records_readable[\"Entry Fees\"]\n",
    "    + assetpf_signals.trades.records_readable[\"Exit Fees\"]\n",
    ")\n",
    "total_assetfees.vbt.plot(\n",
    "    title=f\"{assetdf.name} | Total Fees\",\n",
    "    trace_kwargs=dict(name=\"\\u00a4\"),\n",
    "    height=cheight // 2,\n",
    "    width=cwidth,\n",
    ").show_png()"
   ]
  },
  {
   "cell_type": "markdown",
   "id": "1343a6b8-8e70-426e-9b58-a091b114b465",
   "metadata": {},
   "source": [
    "# Disclaimer\n",
    "* All investments involve risk, and the past performance of a security, industry, sector, market, financial product, trading strategy, or individual’s trading does not guarantee future results or returns. Investors are fully responsible for any investment decisions they make. Such decisions should be based solely on an evaluation of their financial circumstances, investment objectives, risk tolerance, and liquidity needs.\n",
    "\n",
    "* Any opinions, news, research, analyses, prices, or other information offered is provided as general market commentary, and does not constitute investment advice. I will not accept liability for any loss or damage, including without limitation any loss of profit, which may arise directly or indirectly from use of or reliance on such information."
   ]
  }
 ],
 "metadata": {
  "kernelspec": {
   "display_name": "Python 3 (ipykernel)",
   "language": "python",
   "name": "python3"
  },
  "language_info": {
   "codemirror_mode": {
    "name": "ipython",
    "version": 3
   },
   "file_extension": ".py",
   "mimetype": "text/x-python",
   "name": "python",
   "nbconvert_exporter": "python",
   "pygments_lexer": "ipython3",
   "version": "3.9.1"
  }
 },
 "nbformat": 4,
 "nbformat_minor": 5
}
