{
 "cells": [
  {
   "cell_type": "markdown",
   "metadata": {},
   "source": [
    "# Polars TI ([polars-ti](https://github.com/CMobley7/polars-ti)) Studies for Custom Technical Analysis\n",
    "\n",
    "## Topics\n",
    "- What is a Polars TI Study?\n",
    "    - Builtin Studies: __AllStudy__ and __CommonStudy__\n",
    "    - Creating Studies\n",
    "- Watchlist Class\n",
    "    - Study Management and Execution\n",
    "    - **NOTE:** The **watchlist** module is independent of Polars TI. To easily use it, copy it from your local polars-ti installation directory into your project directory.\n",
    "- Indicator Composition/Chaining for more Complex Studies\n",
    "    - Comprehensive Example: _MACD and RSI Momo with BBANDS and SMAs 50 & 200 and Cumulative Log Returns_"
   ]
  },
  {
   "cell_type": "code",
   "execution_count": null,
   "metadata": {},
   "outputs": [],
   "source": [
    "%matplotlib inline\n",
    "from datetime import datetime\n",
    "import pandas as pd\n",
    "import polars_ti as ti\n",
    "from alphaVantageAPI.alphavantage import AlphaVantage  # pip install alphaVantage-api\n",
    "from watchlist import Watchlist  # Is this failing? If so, copy it locally. See above.\n",
    "\n",
    "print(\n",
    "    f\"\\nPolars TI v{ti.version}\\nTo install the Latest Version:\\n$ pip install -U git+https://github.com/CMobley7/polars-ti\\n\"\n",
    ")\n",
    "%pylab inline"
   ]
  },
  {
   "cell_type": "markdown",
   "metadata": {},
   "source": [
    "# What is a Polars TI Study?\n",
    "A _Study_ is a simple way to name and group technical indicators. Technically, a _Study_ is a simple Data Class to contain list of indicators and their parameters. __Note__: _Study_ is experimental and subject to change. Polars TI comes with two basic Studies: __AllStudy__ and __CommonStudy__.\n",
    "\n",
    "## Study Requirements:\n",
    "- _name_: Some short memorable string.  _Note_: Case-insensitive \"All\" is reserved.\n",
    "- _ti_: A list of dicts containing keyword arguments to identify the indicator and the indicator's arguments\n",
    "\n",
    "## Optional Requirements:\n",
    "- _description_: A more detailed description of what the Study tries to capture. Default: None\n",
    "- _created_: At datetime string of when it was created. Default: Automatically generated.\n",
    "\n",
    "### Things to note:\n",
    "- A Study will __fail__ when consumed by Polars TI if there is no {\"kind\": \"indicator name\"} attribute."
   ]
  },
  {
   "cell_type": "markdown",
   "metadata": {},
   "source": [
    "# Builtin Examples"
   ]
  },
  {
   "cell_type": "markdown",
   "metadata": {},
   "source": [
    "### All\n",
    "Default Values"
   ]
  },
  {
   "cell_type": "code",
   "execution_count": null,
   "metadata": {},
   "outputs": [],
   "source": [
    "AllStudy = ti.AllStudy\n",
    "print(f\"{AllStudy.name = }\")\n",
    "print(f\"{AllStudy.description = }\")\n",
    "print(f\"{AllStudy.created = }\")\n",
    "print(f\"{AllStudy.ti = }\")\n",
    "print(f\"{AllStudy.cores = }\")"
   ]
  },
  {
   "cell_type": "markdown",
   "metadata": {},
   "source": [
    "### Common\n",
    "Default Values"
   ]
  },
  {
   "cell_type": "code",
   "execution_count": null,
   "metadata": {},
   "outputs": [],
   "source": [
    "CommonStudy = ti.CommonStudy\n",
    "print(f\"{CommonStudy.name = }\")\n",
    "print(f\"{CommonStudy.description = }\")\n",
    "print(f\"{CommonStudy.created = }\")\n",
    "print(f\"{CommonStudy.ti = }\")\n",
    "print(f\"{CommonStudy.cores = }\")"
   ]
  },
  {
   "cell_type": "markdown",
   "metadata": {},
   "source": [
    "# Creating Studies\n",
    "Studies require a **name** and an array of dicts containing the \"kind\" of indicator (\"sma\") and other potential parameters for the analysis."
   ]
  },
  {
   "cell_type": "markdown",
   "metadata": {},
   "source": [
    "### Simple Study A"
   ]
  },
  {
   "cell_type": "code",
   "execution_count": null,
   "metadata": {},
   "outputs": [],
   "source": [
    "custom_a = ti.Study(\n",
    "    name=\"A\",\n",
    "    cores=0,\n",
    "    ti=[{\"kind\": \"sma\", \"length\": 50}, {\"kind\": \"sma\", \"length\": 200}],\n",
    ")\n",
    "custom_a"
   ]
  },
  {
   "cell_type": "markdown",
   "metadata": {},
   "source": [
    "### Simple Study B"
   ]
  },
  {
   "cell_type": "code",
   "execution_count": null,
   "metadata": {},
   "outputs": [],
   "source": [
    "custom_b = ti.Study(\n",
    "    name=\"B\",\n",
    "    cores=0,\n",
    "    ti=[\n",
    "        {\"kind\": \"ema\", \"length\": 8},\n",
    "        {\"kind\": \"ema\", \"length\": 21},\n",
    "        {\"kind\": \"log_return\", \"cumulative\": True},\n",
    "        {\"kind\": \"rsi\"},\n",
    "        {\"kind\": \"supertrend\"},\n",
    "    ],\n",
    ")\n",
    "custom_b"
   ]
  },
  {
   "cell_type": "markdown",
   "metadata": {},
   "source": [
    "### Bad Study. (Misspelled Indicator)"
   ]
  },
  {
   "cell_type": "code",
   "execution_count": null,
   "metadata": {},
   "outputs": [],
   "source": [
    "# Misspelled indicator, will fail later when ran with Polars TI\n",
    "custom_run_failure = ti.Study(\n",
    "    name=\"Runtime Failure\", cores=0, ti=[{\"kind\": \"peret_return\"}]\n",
    ")\n",
    "custom_run_failure"
   ]
  },
  {
   "cell_type": "markdown",
   "metadata": {},
   "source": [
    "# Study Management and Execution with _Watchlist_"
   ]
  },
  {
   "cell_type": "markdown",
   "metadata": {},
   "source": [
    "### Initialize AlphaVantage Data Source"
   ]
  },
  {
   "cell_type": "code",
   "execution_count": null,
   "metadata": {},
   "outputs": [],
   "source": [
    "AV = AlphaVantage(\n",
    "    api_key=\"YOUR API KEY\",\n",
    "    premium=False,\n",
    "    output_size=\"full\",\n",
    "    clean=True,\n",
    "    export_path=\".\",\n",
    "    export=True,\n",
    ")\n",
    "AV"
   ]
  },
  {
   "cell_type": "markdown",
   "metadata": {},
   "source": [
    "### Create Watchlist and set it's 'ds' to AlphaVantage"
   ]
  },
  {
   "cell_type": "code",
   "execution_count": 8,
   "metadata": {},
   "outputs": [],
   "source": [
    "data_source = \"av\"  # Default\n",
    "data_source = \"yahoo\"\n",
    "watch = Watchlist([\"SPY\", \"IWM\"], ds_name=data_source, timed=True)"
   ]
  },
  {
   "cell_type": "markdown",
   "metadata": {},
   "source": [
    "\n",
    "\n",
    "#### Info about the Watchlist. Note, the default Study is \"All\""
   ]
  },
  {
   "cell_type": "code",
   "execution_count": null,
   "metadata": {},
   "outputs": [],
   "source": [
    "watch"
   ]
  },
  {
   "cell_type": "markdown",
   "metadata": {},
   "source": [
    "### Help about Watchlist"
   ]
  },
  {
   "cell_type": "code",
   "execution_count": null,
   "metadata": {},
   "outputs": [],
   "source": [
    "help(Watchlist)"
   ]
  },
  {
   "cell_type": "markdown",
   "metadata": {},
   "source": [
    "### Default Study is \"Common\""
   ]
  },
  {
   "cell_type": "code",
   "execution_count": null,
   "metadata": {},
   "outputs": [],
   "source": [
    "# No arguments loads all the tickers and applies the Study to each ticker.\n",
    "# The result can be accessed with Watchlist's 'data' property which returns a\n",
    "# dictionary keyed by ticker and DataFrames as values\n",
    "watch.load(verbose=True)"
   ]
  },
  {
   "cell_type": "code",
   "execution_count": null,
   "metadata": {},
   "outputs": [],
   "source": [
    "\", \".join([f\"{t}: {d.shape}\" for t, d in watch.data.items()])"
   ]
  },
  {
   "cell_type": "code",
   "execution_count": null,
   "metadata": {},
   "outputs": [],
   "source": [
    "watch.data[\"SPY\"]"
   ]
  },
  {
   "cell_type": "code",
   "execution_count": null,
   "metadata": {},
   "outputs": [],
   "source": [
    "watch.load(\"SPY\", plot=True, mas=True)"
   ]
  },
  {
   "cell_type": "markdown",
   "metadata": {},
   "source": [
    "## Easy to swap Studies and run them"
   ]
  },
  {
   "cell_type": "markdown",
   "metadata": {},
   "source": [
    "### Running Simple Study A"
   ]
  },
  {
   "cell_type": "code",
   "execution_count": null,
   "metadata": {},
   "outputs": [],
   "source": [
    "# Load custom_a into Watchlist and verify\n",
    "watch.study = custom_a\n",
    "watch.study"
   ]
  },
  {
   "cell_type": "code",
   "execution_count": null,
   "metadata": {},
   "outputs": [],
   "source": [
    "watch.load(\"IWM\")"
   ]
  },
  {
   "cell_type": "markdown",
   "metadata": {},
   "source": [
    "### Running Simple Study B"
   ]
  },
  {
   "cell_type": "code",
   "execution_count": null,
   "metadata": {},
   "outputs": [],
   "source": [
    "# Load custom_b into Watchlist and verify\n",
    "watch.study = custom_b\n",
    "watch.study"
   ]
  },
  {
   "cell_type": "code",
   "execution_count": null,
   "metadata": {},
   "outputs": [],
   "source": [
    "watch.load(\"IWM\")"
   ]
  },
  {
   "cell_type": "markdown",
   "metadata": {},
   "source": [
    "### Running Bad Study. (Misspelled indicator)"
   ]
  },
  {
   "cell_type": "code",
   "execution_count": null,
   "metadata": {},
   "outputs": [],
   "source": [
    "# Load custom_run_failure into Watchlist and verify\n",
    "watch.study = custom_run_failure\n",
    "watch.study"
   ]
  },
  {
   "cell_type": "code",
   "execution_count": null,
   "metadata": {},
   "outputs": [],
   "source": [
    "try:\n",
    "    iwm = watch.load(\"IWM\")\n",
    "except AttributeError as error:\n",
    "    print(f\"[X] Oops! {error}\")"
   ]
  },
  {
   "cell_type": "markdown",
   "metadata": {},
   "source": [
    "# Indicator Composition/Chaining\n",
    "- When you need an indicator to depend on the value of a prior indicator\n",
    "- Utilitze _prefix_ or _suffix_ to help identify unique columns or avoid column name clashes.\n",
    "- Set ```cores=0``` for better performance when few indicators"
   ]
  },
  {
   "cell_type": "markdown",
   "metadata": {},
   "source": [
    "### Volume MAs and MA chains"
   ]
  },
  {
   "cell_type": "code",
   "execution_count": null,
   "metadata": {},
   "outputs": [],
   "source": [
    "# Set EMA's and SMA's 'close' to 'volume' to create Volume MAs, prefix 'volume' MAs with 'VOLUME' so easy to identify the column\n",
    "# Take a price EMA and apply LINREG from EMA's output\n",
    "volmas_price_ma_chain = [\n",
    "    {\"kind\": \"ema\", \"close\": \"volume\", \"length\": 10, \"prefix\": \"VOLUME\"},\n",
    "    {\"kind\": \"sma\", \"close\": \"volume\", \"length\": 20, \"prefix\": \"VOLUME\"},\n",
    "    {\"kind\": \"ema\", \"length\": 5},\n",
    "    {\"kind\": \"linreg\", \"close\": \"EMA_5\", \"length\": 8, \"prefix\": \"EMA_5\"},\n",
    "]\n",
    "vp_ma_chain_ti = ti.Study(\n",
    "    \"Volume MAs and Price MA chain\", cores=0, ti=volmas_price_ma_chain\n",
    ")\n",
    "vp_ma_chain_ti"
   ]
  },
  {
   "cell_type": "code",
   "execution_count": null,
   "metadata": {},
   "outputs": [],
   "source": [
    "# Update the Watchlist\n",
    "watch.study = vp_ma_chain_ti\n",
    "watch.study.name"
   ]
  },
  {
   "cell_type": "code",
   "execution_count": null,
   "metadata": {},
   "outputs": [],
   "source": [
    "spy = watch.load(\"SPY\")\n",
    "spy"
   ]
  },
  {
   "cell_type": "markdown",
   "metadata": {},
   "source": [
    "### MACD BBANDS"
   ]
  },
  {
   "cell_type": "code",
   "execution_count": null,
   "metadata": {},
   "outputs": [],
   "source": [
    "# MACD is the initial indicator that BBANDS depends on.\n",
    "# Set BBANDS's 'close' to MACD's main signal, in this case 'MACD_12_26_9' and add a prefix (or suffix) so it's easier to identify\n",
    "macd_bands_ti = [\n",
    "    {\"kind\": \"macd\"},\n",
    "    {\n",
    "        \"kind\": \"bbands\",\n",
    "        \"close\": \"MACD_12_26_9\",\n",
    "        \"length\": 20,\n",
    "        \"ddof\": 0,\n",
    "        \"prefix\": \"MACD\",\n",
    "    },\n",
    "]\n",
    "macd_bands_ti = ti.Study(\n",
    "    \"MACD BBands\",\n",
    "    cores=0,\n",
    "    ti=macd_bands_ti,\n",
    "    description=f\"BBANDS_{macd_bands_ti[1]['length']} applied to MACD\",\n",
    ")\n",
    "macd_bands_ti"
   ]
  },
  {
   "cell_type": "code",
   "execution_count": null,
   "metadata": {},
   "outputs": [],
   "source": [
    "# Update the Watchlist\n",
    "watch.study = macd_bands_ti\n",
    "watch.study.name"
   ]
  },
  {
   "cell_type": "code",
   "execution_count": null,
   "metadata": {},
   "outputs": [],
   "source": [
    "spy = watch.load(\"SPY\")\n",
    "spy"
   ]
  },
  {
   "cell_type": "markdown",
   "metadata": {},
   "source": [
    "# Comprehensive Study"
   ]
  },
  {
   "cell_type": "markdown",
   "metadata": {},
   "source": [
    "### MACD and RSI Momentum with BBANDS and SMAs and Cumulative Log Returns"
   ]
  },
  {
   "cell_type": "code",
   "execution_count": null,
   "metadata": {},
   "outputs": [],
   "source": [
    "momo_bands_sma_ti = [\n",
    "    {\"kind\": \"sma\", \"length\": 50},\n",
    "    {\"kind\": \"sma\", \"length\": 200},\n",
    "    {\"kind\": \"bbands\", \"length\": 20, \"ddof\": 0},\n",
    "    {\"kind\": \"macd\"},\n",
    "    {\"kind\": \"rsi\"},\n",
    "    {\"kind\": \"log_return\", \"cumulative\": True},\n",
    "    {\"kind\": \"sma\", \"close\": \"CUMLOGRET_1\", \"length\": 5, \"suffix\": \"CUMLOGRET\"},\n",
    "]\n",
    "momo_bands_sma_Study = ti.Study(\n",
    "    name=\"Momo, Bands and SMAs and Cumulative Log Returns\",  # name\n",
    "    ti=momo_bands_sma_ti,  # ti\n",
    "    description=\"MACD and RSI Momo with BBANDS and SMAs 50 & 200 and Cumulative Log Returns\",  # description\n",
    "    cores=0,\n",
    ")\n",
    "momo_bands_sma_Study"
   ]
  },
  {
   "cell_type": "code",
   "execution_count": null,
   "metadata": {},
   "outputs": [],
   "source": [
    "# Update the Watchlist\n",
    "watch.study = momo_bands_sma_Study\n",
    "watch.study.name"
   ]
  },
  {
   "cell_type": "code",
   "execution_count": null,
   "metadata": {},
   "outputs": [],
   "source": [
    "spy = watch.load(\"SPY\")\n",
    "# Apply constants to the DataFrame for indicators\n",
    "spy.ti.constants(True, [0, 30, 70])\n",
    "spy.tail()"
   ]
  },
  {
   "cell_type": "markdown",
   "metadata": {},
   "source": [
    "# Additional Study Options"
   ]
  },
  {
   "cell_type": "markdown",
   "metadata": {},
   "source": [
    "The ```params``` keyword takes a _tuple_ as a shorthand to the parameter arguments in order.\n",
    "* **Note**: If the indicator arguments change, so will results. Breaking Changes will **always** be posted on the README.\n",
    "\n",
    "The ```col_numbers``` keyword takes a _tuple_ specifying which column to return if the result is a DataFrame."
   ]
  },
  {
   "cell_type": "code",
   "execution_count": null,
   "metadata": {},
   "outputs": [],
   "source": [
    "params_ti = [\n",
    "    {\"kind\": \"ema\", \"params\": (10,)},\n",
    "    # params sets MACD's keyword arguments: fast=9, slow=19, signal=10\n",
    "    # and returning the 2nd column: histogram\n",
    "    {\"kind\": \"macd\", \"params\": (9, 19, 10), \"col_numbers\": (1,)},\n",
    "    # Selects the Lower and Upper Bands and renames them LB and UB, ignoring the MB\n",
    "    {\"kind\": \"bbands\", \"col_numbers\": (0, 2), \"col_names\": (\"LB\", \"UB\")},\n",
    "    {\"kind\": \"log_return\", \"params\": (5, False)},\n",
    "]\n",
    "params_ti_Study = ti.Study(\n",
    "    name=\"EMA, MACD History, Outter BBands, Log Returns\",  # name\n",
    "    ti=params_ti,  # ti\n",
    "    description=\"EMA, MACD History, BBands(LB, UB), and Log Returns Study\",  # description\n",
    "    cores=0,\n",
    ")\n",
    "params_ti_Study"
   ]
  },
  {
   "cell_type": "code",
   "execution_count": null,
   "metadata": {},
   "outputs": [],
   "source": [
    "# Update the Watchlist\n",
    "watch.study = params_ti_Study\n",
    "watch.study.name"
   ]
  },
  {
   "cell_type": "code",
   "execution_count": null,
   "metadata": {},
   "outputs": [],
   "source": [
    "spy = watch.load(\"SPY\")\n",
    "spy.tail()"
   ]
  },
  {
   "cell_type": "markdown",
   "metadata": {},
   "source": [
    "# Disclaimer\n",
    "* All investments involve risk, and the past performance of a security, industry, sector, market, financial product, trading Study, or individual’s trading does not guarantee future results or returns. Investors are fully responsible for any investment decisions they make. Such decisions should be based solely on an evaluation of their financial circumstances, investment objectives, risk tolerance, and liquidity needs.\n",
    "\n",
    "* Any opinions, news, research, analyses, prices, or other information offered is provided as general market commentary, and does not constitute investment advice. I will not accept liability for any loss or damage, including without limitation any loss of profit, which may arise directly or indirectly from use of or reliance on such information."
   ]
  }
 ],
 "metadata": {
  "kernelspec": {
   "display_name": "Python 3 (ipykernel)",
   "language": "python",
   "name": "python3"
  },
  "language_info": {
   "codemirror_mode": {
    "name": "ipython",
    "version": 3
   },
   "file_extension": ".py",
   "mimetype": "text/x-python",
   "name": "python",
   "nbconvert_exporter": "python",
   "pygments_lexer": "ipython3",
   "version": "3.9.1"
  }
 },
 "nbformat": 4,
 "nbformat_minor": 4
}
