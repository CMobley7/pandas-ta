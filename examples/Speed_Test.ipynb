{
 "cells": [
  {
   "cell_type": "markdown",
   "id": "3dbbe3ae-2e85-46a1-b4c7-5bc942978bb6",
   "metadata": {},
   "source": [
    "# Indicator Speed Test\n",
    "\n",
    "This Notebook shows the speed of each indicator _with_ and _without_ TA Lib",
    "* Results may vary if ```vectorbt``` or ```numba``` is installed.\n",
    "* These values are based on a M1 Macbook with 16GB Memory."
   ]
  },
  {
   "cell_type": "code",
   "execution_count": null,
   "id": "63c0934c-9bb3-4a3e-a65a-9f142aa346f9",
   "metadata": {},
   "outputs": [],
   "source": [
    "from importlib.util import find_spec\n",
    "\n",
    "from numpy import version as numpy_version\n",
    "from pandas import DataFrame, IndexSlice, concat, read_csv, __version__\n",
    "from pandas import IndexSlice as idx\n",
    "import polars_ti as ti\n",
    "\n",
    "print(\"Package Versions:\")\n",
    "print(f\"Pandas v{__version__}\")\n",
    "print(f\"Polars TI v{ti.version}\")\n",
    "\n",
    "has_numba = find_spec(\"numba\") is not None\n",
    "if has_numba:\n",
    "    from numba import __version__ as numba_version\n",
    "\n",
    "    print(f\"Numba v{numba_version}\")\n",
    "\n",
    "if find_spec(\"talib\") is not None:\n",
    "    from talib import __version__ as tal_version\n",
    "\n",
    "    print(f\"talib v{tal_version}\")\n",
    "\n",
    "from pandas import read_csv\n",
    "from pandas import DatetimeIndex as dti\n",
    "\n",
    "%matplotlib inline"
   ]
  },
  {
   "cell_type": "markdown",
   "id": "68531949-cca4-47f5-89e7-00d77855e8a3",
   "metadata": {},
   "source": [
    "### Fetch Sample Data"
   ]
  },
  {
   "cell_type": "code",
   "execution_count": null,
   "id": "efe05268-b2a1-4beb-9b7d-280e374d8d50",
   "metadata": {},
   "outputs": [],
   "source": [
    "df = DataFrame()\n",
    "_df = df.ti.ticker(\"SPY\", period=\"5y\", timed=True)"
   ]
  },
  {
   "cell_type": "code",
   "execution_count": null,
   "id": "3f7ad492-a70c-4367-a60e-92bd186f1afb",
   "metadata": {},
   "outputs": [],
   "source": [
    "df = _df.copy()\n",
    "df.shape"
   ]
  },
  {
   "cell_type": "markdown",
   "id": "ea75457d-9b95-41ae-9205-23b822c3a3d8",
   "metadata": {},
   "source": [
    "### If ```numba``` installed, prep @njit functions\n",
    "* Some indicators like **ha** have numba/njit versions, so they need to be compiled by have a prerun. In the performance tests after this, **ha** and other numba/njit versions will be quicker also."
   ]
  },
  {
   "cell_type": "code",
   "execution_count": null,
   "id": "38176845-652e-43dc-b426-12eaa9952c5f",
   "metadata": {},
   "outputs": [],
   "source": [
    "if has_numba:\n",
    "    ti.speed_test(df.iloc[-150:], talib=False, silent=True)"
   ]
  },
  {
   "cell_type": "markdown",
   "id": "4ce3fb06-5ca6-44e2-a8f1-6c35af7c0c23",
   "metadata": {},
   "source": [
    "## Performance **without** TA Lib"
   ]
  },
  {
   "cell_type": "code",
   "execution_count": null,
   "id": "6404c4d7-3318-4749-a2b7-c5dd9c5e3f59",
   "metadata": {},
   "outputs": [],
   "source": [
    "pti_speedsdf, pti_statsdf = ti.speed_test(\n",
    "    df, top=10, talib=False, stats=True, gradient=True, verbose=True\n",
    ")"
   ]
  },
  {
   "cell_type": "code",
   "execution_count": null,
   "id": "b3a753e2-9634-4cc8-9544-5c28c92130a3",
   "metadata": {},
   "outputs": [],
   "source": [
    "pti_speedsdf"
   ]
  },
  {
   "cell_type": "code",
   "execution_count": null,
   "id": "715520de-ad95-47a6-aa41-5f00d1b23eac",
   "metadata": {},
   "outputs": [],
   "source": [
    "pti_statsdf"
   ]
  },
  {
   "cell_type": "markdown",
   "id": "942e3b8a-e3d9-480f-82b4-75d311b54cfa",
   "metadata": {},
   "source": [
    "## Performance **with** TA Lib"
   ]
  },
  {
   "cell_type": "code",
   "execution_count": null,
   "id": "b4757c9e-7a8f-4b82-93a9-8b3e4837a1d0",
   "metadata": {},
   "outputs": [],
   "source": [
    "tal_speedsdf, tal_statsdf = ti.speed_test(\n",
    "    df, top=10, talib=True, stats=True, gradient=True, verbose=True\n",
    ")"
   ]
  },
  {
   "cell_type": "code",
   "execution_count": null,
   "id": "3fe877e5-b1eb-4e68-9720-67a1e7ee6827",
   "metadata": {},
   "outputs": [],
   "source": [
    "tal_speedsdf"
   ]
  },
  {
   "cell_type": "code",
   "execution_count": null,
   "id": "bf35b59d-4253-41e3-895e-432a824789fb",
   "metadata": {},
   "outputs": [],
   "source": [
    "tal_statsdf"
   ]
  },
  {
   "cell_type": "markdown",
   "id": "c33c37fa-8062-4258-90ba-0c19d115698d",
   "metadata": {},
   "source": [
    "# Comparisons"
   ]
  },
  {
   "cell_type": "code",
   "execution_count": null,
   "id": "35454271-cee2-4bc0-84b7-4099730bb0ed",
   "metadata": {},
   "outputs": [],
   "source": [
    "print(df.shape)\n",
    "compdf = concat([tal_statsdf, pti_statsdf], keys=[\"TA Lib\", \"Polars TI\"], axis=1).T\n",
    "compdf"
   ]
  },
  {
   "cell_type": "code",
   "execution_count": null,
   "id": "167b311f-5180-4abf-95e7-1b41a96a6a1d",
   "metadata": {},
   "outputs": [],
   "source": [
    "diffdf = (tal_statsdf - pti_statsdf).abs().T\n",
    "diffdf.columns.name = \"Differences\"\n",
    "diffdf"
   ]
  },
  {
   "cell_type": "markdown",
   "id": "13b2b1a0-260d-4466-bc19-98f952ebbec1",
   "metadata": {},
   "source": [
    "## Speed Comparison (ms)"
   ]
  },
  {
   "cell_type": "code",
   "execution_count": null,
   "id": "f0d25118-0e8e-454f-a6c3-ec5aacda0db9",
   "metadata": {},
   "outputs": [],
   "source": [
    "taldf = ti.speed_test(df, places=10, talib=True, silent=True)[\"ms\"]\n",
    "ptidf = ti.speed_test(df, places=10, talib=False, silent=True)[\"ms\"]"
   ]
  },
  {
   "cell_type": "code",
   "execution_count": null,
   "id": "90a20a7b-8ce4-4084-87d5-abe6afee8cc6",
   "metadata": {},
   "outputs": [],
   "source": [
    "scdf = DataFrame({\"TAL\": taldf, \"PTI\": ptidf, \"diff\": taldf - ptidf})\n",
    "scdf.round(decimals=3)\n",
    "scdf.index.name = \"Indicator (ms)\""
   ]
  },
  {
   "cell_type": "code",
   "execution_count": null,
   "id": "047e30f9-bbc7-45d7-b2f1-8305ddce0586",
   "metadata": {},
   "outputs": [],
   "source": [
    "scdf.sort_values(by=[\"TAL\", \"diff\"], ascending=False, na_position=\"first\", inplace=True)\n",
    "scdf.style.background_gradient(\"autumn_r\")"
   ]
  }
 ],
 "metadata": {
  "kernelspec": {
   "display_name": "Python 3 (ipykernel)",
   "language": "python",
   "name": "python3"
  },
  "language_info": {
   "codemirror_mode": {
    "name": "ipython",
    "version": 3
   },
   "file_extension": ".py",
   "mimetype": "text/x-python",
   "name": "python",
   "nbconvert_exporter": "python",
   "pygments_lexer": "ipython3",
   "version": "3.11.7"
  }
 },
 "nbformat": 4,
 "nbformat_minor": 5
}
