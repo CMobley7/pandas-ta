{
 "cells": [
  {
   "cell_type": "markdown",
   "metadata": {},
   "source": [
    "# Technical Indicators with **Polar TI**",
    "* This is a **Work in Progress** and subject to change!\n",
    "* Contributions are welcome and accepted!\n",
    "* Examples below are for **educational purposes only**.\n",
    "* **NOTE:** The **watchlist** module is independent of Polars TI. To easily use it, copy it from your local polars-ti installation directory into your project directory."
   ]
  },
  {
   "cell_type": "markdown",
   "metadata": {},
   "source": [
    "### Required Packages\n",
    "##### Uncomment the packages you need to install or are missing"
   ]
  },
  {
   "cell_type": "code",
   "execution_count": 1,
   "metadata": {},
   "outputs": [],
   "source": [
    "#!pip install numpy\n",
    "#!pip install pandas\n",
    "#!pip install mplfinance\n",
    "#!pip install pandas-datareader\n",
    "#!pip install requests_cache\n",
    "#!pip install tqdm\n",
    "#!pip install alphaVantage-api # Required for Watchlist"
   ]
  },
  {
   "cell_type": "code",
   "execution_count": null,
   "metadata": {},
   "outputs": [],
   "source": [
    "%pylab inline\n",
    "from datetime import datetime\n",
    "import random as rnd\n",
    "from sys import float_info as sflt\n",
    "\n",
    "from tqdm import tqdm\n",
    "\n",
    "import numpy as np\n",
    "import pandas as pd\n",
    "\n",
    "# pd.set_option(\"max_rows\", 100)\n",
    "# pd.set_option(\"max_columns\", 20)\n",
    "\n",
    "import mplfinance as mpf\n",
    "import polars_ti as ti\n",
    "\n",
    "from tqdm.notebook import trange, tqdm\n",
    "\n",
    "from watchlist import (\n",
    "    colors,\n",
    "    Watchlist,\n",
    ")  # Is this failing? If so, copy it locally. See above.\n",
    "\n",
    "print(f\"Numpy v{np.__version__}\")\n",
    "print(f\"Pandas v{pd.__version__}\")\n",
    "print(f\"mplfinance v{mpf.__version__}\")\n",
    "print(\n",
    "    f\"\\nPolars TI v{ti.version}\\nTo install the Latest Version:\\n$ pip install -U git+https://github.com/CMobley7/polars-ti\\n\"\n",
    ")\n",
    "%matplotlib inline"
   ]
  },
  {
   "cell_type": "markdown",
   "metadata": {},
   "source": [
    "### MISC Function(s)"
   ]
  },
  {
   "cell_type": "code",
   "execution_count": null,
   "metadata": {},
   "outputs": [],
   "source": [
    "def recent_bars(df, tf: str = \"1y\"):\n",
    "    # All Data: 0, Last Four Years: 0.25, Last Two Years: 0.5, This Year: 1, Last Half Year: 2, Last Quarter: 4\n",
    "    yearly_divisor = {\n",
    "        \"all\": 0,\n",
    "        \"10y\": 0.1,\n",
    "        \"5y\": 0.2,\n",
    "        \"4y\": 0.25,\n",
    "        \"3y\": 1.0 / 3,\n",
    "        \"2y\": 0.5,\n",
    "        \"1y\": 1,\n",
    "        \"6mo\": 2,\n",
    "        \"3mo\": 4,\n",
    "    }\n",
    "    yd = yearly_divisor[tf] if tf in yearly_divisor.keys() else 0\n",
    "    return int(ti.RATE[\"TRADING_DAYS_PER_YEAR\"] / yd) if yd > 0 else df.shape[0]"
   ]
  },
  {
   "cell_type": "markdown",
   "metadata": {},
   "source": [
    "## Data Collection"
   ]
  },
  {
   "cell_type": "code",
   "execution_count": null,
   "metadata": {},
   "outputs": [],
   "source": [
    "tf = \"D\"\n",
    "tickers = [\"SPY\", \"QQQ\", \"AAPL\", \"TSLA\", \"BTC-USD\"]\n",
    "watch = Watchlist(tickers, tf=tf, ds_name=\"yahoo\", timed=True)\n",
    "# watch.study = ti.CommonStudy # If you have a Custom Study, you can use it here.\n",
    "watch.load(tickers, analyze=True, verbose=False)"
   ]
  },
  {
   "cell_type": "markdown",
   "metadata": {},
   "source": [
    "# Asset Selection"
   ]
  },
  {
   "cell_type": "code",
   "execution_count": null,
   "metadata": {},
   "outputs": [],
   "source": [
    "ticker = tickers[1]  # change tickers by changing the index\n",
    "print(\n",
    "    f\"{ticker} {watch.data[ticker].shape}\\nColumns: {', '.join(list(watch.data[ticker].columns))}\"\n",
    ")"
   ]
  },
  {
   "cell_type": "markdown",
   "metadata": {},
   "source": [
    "### Trim it"
   ]
  },
  {
   "cell_type": "code",
   "execution_count": null,
   "metadata": {},
   "outputs": [],
   "source": [
    "duration = \"5y\"\n",
    "asset = watch.data[ticker]\n",
    "recent = recent_bars(asset, duration)\n",
    "asset.columns = asset.columns.str.lower()\n",
    "asset.drop(columns=[\"dividends\", \"split\"], errors=\"ignore\", inplace=True)\n",
    "asset = asset.copy().tail(recent)\n",
    "asset"
   ]
  },
  {
   "cell_type": "markdown",
   "metadata": {},
   "source": [
    "# Trend Creation\n",
    "A **Trend** is the result of some calculation or condition of one or more indicators. For simplicity, a _Trend_ is either ```True``` or ```1``` and _No Trend_ is ```False``` or ```0```. Using the **Hello World** of Trends, the **Golden/Death Cross**, it's Trend is _Long_ when ```long = ma(close, 50) > ma(close, 200) ``` and _Short_ when ```short = ma(close, 50) < ma(close, 200) ```. "
   ]
  },
  {
   "cell_type": "code",
   "execution_count": null,
   "metadata": {},
   "outputs": [],
   "source": [
    "# Example Long Trends\n",
    "# long = ti.sma(asset.close, 50) > ti.sma(asset.close, 200) # SMA(50) > SMA(200) \"Golden/Death Cross\"\n",
    "long = ti.sma(asset.close, 20) > ti.sma(asset.close, 50)  # SMA(20) > SMA(50)\n",
    "# long = ti.ema(asset.close, 8) > ti.ema(asset.close, 21) # EMA(8) > EMA(21)\n",
    "# long = ti.increasing(ti.ema(asset.close, 20))\n",
    "# long = ti.macd(asset.close).iloc[:,1] > 0 # MACD Histogram is positive\n",
    "\n",
    "# long &= ti.increasing(ti.ema(asset.close, 50), 2) # Uncomment for further long restrictions, in this case when EMA(50) is increasing/sloping upwards\n",
    "# long = 1 - long # uncomment to create a short signal of the trend\n",
    "\n",
    "asset.ti.ema(length=8, sma=False, append=True)\n",
    "asset.ti.ema(length=21, sma=False, append=True)\n",
    "asset.ti.ema(length=50, sma=False, append=True)\n",
    "asset.ti.percent_return(append=True, cumulative=False)\n",
    "print(\"TI Columns Added:\")\n",
    "asset[asset.columns[5:]].tail()"
   ]
  },
  {
   "cell_type": "markdown",
   "metadata": {},
   "source": [
    "### **Trend Signals** \n",
    "Given a _Trend_, **Trend Signals** returns the _Trend_, _Trades_, _Entries_ and _Exits_ as boolean integers. When ```asbool=True```, it returns _Trends_, _Entries_ and _Exits_ as boolean values which is helpful when combined with the [**vectorbt**](https://github.com/polakowo/vectorbt) backtesting package."
   ]
  },
  {
   "cell_type": "code",
   "execution_count": null,
   "metadata": {},
   "outputs": [],
   "source": [
    "trendy = asset.ti.tsignals(long, asbool=False, append=True)\n",
    "trendy.tail()"
   ]
  },
  {
   "cell_type": "markdown",
   "metadata": {},
   "source": [
    "### Trend Entries & Exits & Trade Table\n",
    "This is a simple way to reduce the Asset DataFrame to a Trade Table with Dates, Signals, and Entries and Exits. Gives you an idea what to expect before running through a backtester such as [**vectorbt**](https://github.com/polakowo/vectorbt)."
   ]
  },
  {
   "cell_type": "code",
   "execution_count": null,
   "metadata": {},
   "outputs": [],
   "source": [
    "entries = trendy.TS_Entries * asset.close\n",
    "entries = entries[~np.isclose(entries, 0)]\n",
    "entries.dropna(inplace=True)\n",
    "entries.name = \"Entry\"\n",
    "\n",
    "exits = trendy.TS_Exits * asset.close\n",
    "exits = exits[~np.isclose(exits, 0)]\n",
    "exits.dropna(inplace=True)\n",
    "exits.name = \"Exit\"\n",
    "\n",
    "total_trades = trendy.TS_Trades.abs().sum()\n",
    "rt_trades = int(trendy.TS_Trades.abs().sum() // 2)\n",
    "\n",
    "all_trades = trendy.TS_Trades.copy().fillna(0)\n",
    "all_trades = all_trades[all_trades != 0]\n",
    "\n",
    "trades = pd.DataFrame({\"Signal\": all_trades, entries.name: entries, exits.name: exits})\n",
    "\n",
    "# Show some stats if there is an active trade (when there is an odd number of round trip trades)\n",
    "if total_trades % 2 != 0:\n",
    "    unrealized_pnl = asset.close.iloc[-1] - entries.iloc[-1]\n",
    "    unrealized_pnl_pct_change = 100 * ((asset.close.iloc[-1] / entries.iloc[-1]) - 1)\n",
    "    print(\"Current Trade:\")\n",
    "    print(f\"Price Entry | Last:\\t{entries.iloc[-1]:.4f} | {asset.close.iloc[-1]:.4f}\")\n",
    "    print(\n",
    "        f\"Unrealized PnL | %:\\t{unrealized_pnl:.4f} | {unrealized_pnl_pct_change:.4f}%\"\n",
    "    )\n",
    "print(f\"\\nTrades Total | Round Trip:\\t{total_trades} | {rt_trades}\")\n",
    "print(f\"Trade Coverage: {100 * asset.TS_Trends.sum() / asset.shape[0]:.2f}%\")\n",
    "\n",
    "tradelist = trades\n",
    "if rt_trades > 10:\n",
    "    tradelist = trades.tail(10)\n",
    "tradelist"
   ]
  },
  {
   "cell_type": "markdown",
   "metadata": {},
   "source": [
    "# Visualization"
   ]
  },
  {
   "cell_type": "markdown",
   "metadata": {},
   "source": [
    "### Chart Display Strings"
   ]
  },
  {
   "cell_type": "code",
   "execution_count": null,
   "metadata": {},
   "outputs": [],
   "source": [
    "extime = ti.get_time(to_string=True)\n",
    "first_date, last_date = asset.index[0], asset.index[-1]\n",
    "last_ohlcv = f\"Last OHLCV: ({asset.iloc[-1].open:.4f}, {asset.iloc[-1].high:.4f}, {asset.iloc[-1].low:.4f}, {asset.iloc[-1].close:.4f}, {int(asset.iloc[-1].volume)})\"\n",
    "_oc_change = asset.iloc[-1].open - asset.iloc[-1].close\n",
    "_oc_change_pct = _oc_change / asset.iloc[-1].open\n",
    "oc_change = f\"{_oc_change:.4f} ({100 * _oc_change_pct:.4f} %)\"\n",
    "ptitle = f\"\\n{ticker} [{tf} for {duration}({recent} bars)]\\n{last_ohlcv}, Change (%): {oc_change}\\n{extime}\""
   ]
  },
  {
   "cell_type": "markdown",
   "metadata": {},
   "source": [
    "### Trade Chart"
   ]
  },
  {
   "cell_type": "code",
   "execution_count": null,
   "metadata": {},
   "outputs": [],
   "source": [
    "# chart = asset[\"close\"] #asset[[\"close\", \"SMA_10\", \"SMA_20\", \"SMA_50\", \"SMA_200\"]]\n",
    "# chart = asset[[\"close\", \"SMA_10\", \"SMA_20\"]]\n",
    "chart = asset[[\"close\", \"EMA_8\", \"EMA_21\", \"EMA_50\"]]\n",
    "chart.plot(figsize=(16, 10), color=colors(\"BkGrOrRd\"), title=ptitle, grid=True)"
   ]
  },
  {
   "cell_type": "markdown",
   "metadata": {},
   "source": [
    "### Long and Short Trends\n",
    "**Trends** are either a _Trend_ (```1```) or _No Trend_ (```0```) depending on the **Trend** passed into ***Trend Signals**"
   ]
  },
  {
   "cell_type": "code",
   "execution_count": null,
   "metadata": {},
   "outputs": [],
   "source": [
    "long_trend = trendy.TS_Trends\n",
    "short_trend = 1 - long_trend\n",
    "\n",
    "long_trend.plot(\n",
    "    figsize=(16, 0.85), kind=\"area\", stacked=True, color=[\"limegreen\"], alpha=0.65\n",
    ")  # Green Area\n",
    "short_trend.plot(\n",
    "    figsize=(16, 0.85), kind=\"area\", stacked=True, color=[\"orangered\"], alpha=0.65\n",
    ")  # Red Area"
   ]
  },
  {
   "cell_type": "markdown",
   "metadata": {},
   "source": [
    "### Trades or Trade Signals\n",
    "The **Trades** are either _Enter_ (```1```) or _Exit_ (```-1```) or _No Position/Action_ (```0```). These are based on the **Trend** passed into **Trend Signals** whether they are _Long_ or _Short_ Trends."
   ]
  },
  {
   "cell_type": "code",
   "execution_count": null,
   "metadata": {},
   "outputs": [],
   "source": [
    "trendy.TS_Trades.plot(figsize=(16, 1.5), color=colors(\"BkBl\")[0], grid=True)"
   ]
  },
  {
   "cell_type": "markdown",
   "metadata": {},
   "source": [
    "### Active Returns\n",
    "**Active Returns** are returns made during the course of the _Trend_. They are simply the product of the returns and the _Trend_"
   ]
  },
  {
   "cell_type": "code",
   "execution_count": null,
   "metadata": {},
   "outputs": [],
   "source": [
    "asset[\"ACTRET_1\"] = trendy.TS_Trends.shift(1) * asset.PCTRET_1\n",
    "asset[[\"PCTRET_1\", \"ACTRET_1\"]].plot(\n",
    "    figsize=(16, 3), color=[\"gray\", \"limegreen\"], alpha=1, grid=True\n",
    ").axhline(0, color=\"black\")"
   ]
  },
  {
   "cell_type": "markdown",
   "metadata": {},
   "source": [
    "### Buy and Hold Returns (*PCTRET_1*)"
   ]
  },
  {
   "cell_type": "code",
   "execution_count": null,
   "metadata": {},
   "outputs": [],
   "source": [
    "((asset.PCTRET_1 + 1).cumprod() - 1).plot(\n",
    "    figsize=(16, 3),\n",
    "    kind=\"area\",\n",
    "    stacked=False,\n",
    "    color=[\"limegreen\"],\n",
    "    title=\"B&H Percent Returns\",\n",
    "    alpha=0.9,\n",
    "    grid=True,\n",
    ").axhline(0, color=\"black\")"
   ]
  },
  {
   "cell_type": "markdown",
   "metadata": {},
   "source": [
    "### Cum. Active Returns (*ACTRET_1*)"
   ]
  },
  {
   "cell_type": "code",
   "execution_count": null,
   "metadata": {},
   "outputs": [],
   "source": [
    "# ((asset.ACTRET_1 + 1).cumprod() - 1).plot(figsize=(16, 3), kind=\"area\", stacked=False, color=colors(\"GyOr\")[-1], title=\"B&H Cum. Active Returns\", alpha=0.4, grid=True).axhline(0, color=\"black\")\n",
    "((asset.ACTRET_1 + 1).cumprod() - 1).plot(\n",
    "    figsize=(16, 3),\n",
    "    kind=\"area\",\n",
    "    stacked=False,\n",
    "    color=[\"limegreen\"],\n",
    "    title=\"B&H Cum. Active Returns\",\n",
    "    alpha=0.65,\n",
    "    grid=True,\n",
    ").axhline(0, color=\"black\")"
   ]
  },
  {
   "cell_type": "markdown",
   "metadata": {},
   "source": [
    "# Disclaimer\n",
    "* All investments involve risk, and the past performance of a security, industry, sector, market, financial product, trading strategy, or individual’s trading does not guarantee future results or returns. Investors are fully responsible for any investment decisions they make. Such decisions should be based solely on an evaluation of their financial circumstances, investment objectives, risk tolerance, and liquidity needs.\n",
    "\n",
    "* Any opinions, news, research, analyses, prices, or other information offered is provided as general market commentary, and does not constitute investment advice. I will not accept liability for any loss or damage, including without limitation any loss of profit, which may arise directly or indirectly from use of or reliance on such information."
   ]
  }
 ],
 "metadata": {
  "kernelspec": {
   "display_name": "Python 3 (ipykernel)",
   "language": "python",
   "name": "python3"
  },
  "language_info": {
   "codemirror_mode": {
    "name": "ipython",
    "version": 3
   },
   "file_extension": ".py",
   "mimetype": "text/x-python",
   "name": "python",
   "nbconvert_exporter": "python",
   "pygments_lexer": "ipython3",
   "version": "3.9.1"
  }
 },
 "nbformat": 4,
 "nbformat_minor": 4
}
